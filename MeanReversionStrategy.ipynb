{
  "nbformat": 4,
  "nbformat_minor": 0,
  "metadata": {
    "colab": {
      "provenance": []
    },
    "kernelspec": {
      "name": "python3",
      "display_name": "Python 3"
    },
    "language_info": {
      "name": "python"
    }
  },
  "cells": [
    {
      "cell_type": "markdown",
      "source": [
        "# 1) Install packages and import libraries"
      ],
      "metadata": {
        "id": "1MNbh0Q-QF3w"
      }
    },
    {
      "cell_type": "code",
      "source": [],
      "metadata": {
        "id": "WShBy8gvQRMu"
      },
      "execution_count": null,
      "outputs": []
    },
    {
      "cell_type": "markdown",
      "source": [
        "# 2) Import data"
      ],
      "metadata": {
        "id": "EEGj9rV8QTT2"
      }
    },
    {
      "cell_type": "code",
      "source": [],
      "metadata": {
        "id": "1Pmn55nOQeQu"
      },
      "execution_count": null,
      "outputs": []
    },
    {
      "cell_type": "markdown",
      "source": [
        "# 3) Prepare main df and calculate indicators"
      ],
      "metadata": {
        "id": "ls97AIREQfF-"
      }
    },
    {
      "cell_type": "code",
      "source": [],
      "metadata": {
        "id": "LlrJSEZ9Qm-v"
      },
      "execution_count": null,
      "outputs": []
    },
    {
      "cell_type": "markdown",
      "source": [
        "# 4) Define buy/sell conditions"
      ],
      "metadata": {
        "id": "QlwBG3EWQniv"
      }
    },
    {
      "cell_type": "code",
      "source": [],
      "metadata": {
        "id": "SK-BldwORMIr"
      },
      "execution_count": null,
      "outputs": []
    },
    {
      "cell_type": "markdown",
      "source": [
        "# 5) Analyse results"
      ],
      "metadata": {
        "id": "16NxkqjfROkL"
      }
    },
    {
      "cell_type": "code",
      "source": [],
      "metadata": {
        "id": "Ldi20uXMQ2Lf"
      },
      "execution_count": null,
      "outputs": []
    }
  ]
}